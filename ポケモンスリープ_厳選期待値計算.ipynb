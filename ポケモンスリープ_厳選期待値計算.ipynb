{
  "nbformat": 4,
  "nbformat_minor": 0,
  "metadata": {
    "colab": {
      "provenance": [],
      "authorship_tag": "ABX9TyOXA2ppYrQPkAJA4TQ+Vz4k",
      "include_colab_link": true
    },
    "kernelspec": {
      "name": "python3",
      "display_name": "Python 3"
    },
    "language_info": {
      "name": "python"
    }
  },
  "cells": [
    {
      "cell_type": "markdown",
      "metadata": {
        "id": "view-in-github",
        "colab_type": "text"
      },
      "source": [
        "<a href=\"https://colab.research.google.com/github/KSK3613/TC_Flood-Detection/blob/main/%E3%83%9D%E3%82%B1%E3%83%A2%E3%83%B3%E3%82%B9%E3%83%AA%E3%83%BC%E3%83%97_%E5%8E%B3%E9%81%B8%E6%9C%9F%E5%BE%85%E5%80%A4%E8%A8%88%E7%AE%97.ipynb\" target=\"_parent\"><img src=\"https://colab.research.google.com/assets/colab-badge.svg\" alt=\"Open In Colab\"/></a>"
      ]
    },
    {
      "cell_type": "code",
      "execution_count": null,
      "metadata": {
        "id": "B5Lj1zXuz07w"
      },
      "outputs": [],
      "source": [
        "# ポケすりの期待値計算ノートブック"
      ]
    },
    {
      "cell_type": "code",
      "source": [],
      "metadata": {
        "id": "x0kD5K5j0z7U"
      },
      "execution_count": null,
      "outputs": []
    }
  ]
}