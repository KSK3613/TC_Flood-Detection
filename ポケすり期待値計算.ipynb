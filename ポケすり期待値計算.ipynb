{
  "nbformat": 4,
  "nbformat_minor": 0,
  "metadata": {
    "colab": {
      "provenance": [],
      "authorship_tag": "ABX9TyP+gvwXGGf5/ObQHXRCGwBG",
      "include_colab_link": true
    },
    "kernelspec": {
      "name": "python3",
      "display_name": "Python 3"
    },
    "language_info": {
      "name": "python"
    }
  },
  "cells": [
    {
      "cell_type": "markdown",
      "metadata": {
        "id": "view-in-github",
        "colab_type": "text"
      },
      "source": [
        "<a href=\"https://colab.research.google.com/github/KSK3613/TC_Flood-Detection/blob/main/%E3%83%9D%E3%82%B1%E3%81%99%E3%82%8A%E6%9C%9F%E5%BE%85%E5%80%A4%E8%A8%88%E7%AE%97.ipynb\" target=\"_parent\"><img src=\"https://colab.research.google.com/assets/colab-badge.svg\" alt=\"Open In Colab\"/></a>"
      ]
    },
    {
      "cell_type": "markdown",
      "source": [
        "# サブスキルと性格の全組み合わせ計算\n",
        "\n"
      ],
      "metadata": {
        "id": "c7ITSxbQBxtx"
      }
    },
    {
      "cell_type": "code",
      "source": [
        "import itertools\n",
        "import pandas as pd\n",
        "\n",
        "# サブスキル一覧\n",
        "sub_skills = [\n",
        "    \"スキルレベルアップM\", \"きのみの数S\", \"睡眠EXPボーナス\", \"おてつだいボーナス\",\n",
        "    \"げんき回復ボーナス\", \"リサーチEXPボーナス\", \"ゆめのかけらボーナス\",\n",
        "    \"スキルレベルアップS\", \"最大所持数アップL\", \"最大所持数アップM\",\n",
        "    \"おてつだいスピードM\", \"食材確率アップM\", \"スキル確率アップM\",\n",
        "    \"最大所持数アップS\", \"おてつだいスピードS\", \"食材確率アップS\", \"スキル確率アップS\"\n",
        "]\n",
        "\n",
        "# 性格一覧（全25種）\n",
        "personalities = [\n",
        "    {\"性格\": \"さみしがり\", \"上昇\": \"おてつだいスピード\", \"下降\": \"げんき回復量\"},\n",
        "    {\"性格\": \"いじっぱり\", \"上昇\": \"おてつだいスピード\", \"下降\": \"食材おてつだい確率\"},\n",
        "    {\"性格\": \"やんちゃ\", \"上昇\": \"おてつだいスピード\", \"下降\": \"メインスキル発生確率\"},\n",
        "    {\"性格\": \"ゆうかん\", \"上昇\": \"おてつだいスピード\", \"下降\": \"EXP獲得量\"},\n",
        "    {\"性格\": \"ずぶとい\", \"上昇\": \"げんき回復量\", \"下降\": \"おてつだいスピード\"},\n",
        "    {\"性格\": \"わんぱく\", \"上昇\": \"げんき回復量\", \"下降\": \"食材おてつだい確率\"},\n",
        "    {\"性格\": \"のうてんき\", \"上昇\": \"げんき回復量\", \"下降\": \"メインスキル発生確率\"},\n",
        "    {\"性格\": \"のんき\", \"上昇\": \"げんき回復量\", \"下降\": \"EXP獲得量\"},\n",
        "    {\"性格\": \"ひかえめ\", \"上昇\": \"食材おてつだい確率\", \"下降\": \"おてつだいスピード\"},\n",
        "    {\"性格\": \"おっとり\", \"上昇\": \"食材おてつだい確率\", \"下降\": \"げんき回復量\"},\n",
        "    {\"性格\": \"うっかりや\", \"上昇\": \"食材おてつだい確率\", \"下降\": \"メインスキル発生確率\"},\n",
        "    {\"性格\": \"れいせい\", \"上昇\": \"食材おてつだい確率\", \"下降\": \"EXP獲得量\"},\n",
        "    {\"性格\": \"おだやか\", \"上昇\": \"メインスキル発生確率\", \"下降\": \"おてつだいスピード\"},\n",
        "    {\"性格\": \"おとなしい\", \"上昇\": \"メインスキル発生確率\", \"下降\": \"げんき回復量\"},\n",
        "    {\"性格\": \"しんちょう\", \"上昇\": \"メインスキル発生確率\", \"下降\": \"食材おてつだい確率\"},\n",
        "    {\"性格\": \"なまいき\", \"上昇\": \"メインスキル発生確率\", \"下降\": \"EXP獲得量\"},\n",
        "    {\"性格\": \"おくびょう\", \"上昇\": \"EXP獲得量\", \"下降\": \"おてつだいスピード\"},\n",
        "    {\"性格\": \"せっかち\", \"上昇\": \"EXP獲得量\", \"下降\": \"げんき回復量\"},\n",
        "    {\"性格\": \"ようき\", \"上昇\": \"EXP獲得量\", \"下降\": \"食材おてつだい確率\"},\n",
        "    {\"性格\": \"むじゃき\", \"上昇\": \"EXP獲得量\", \"下降\": \"メインスキル発生確率\"},\n",
        "    {\"性格\": \"がんばりや\", \"上昇\": \"無補正\", \"下降\": \"無補正\"},\n",
        "    {\"性格\": \"すなお\", \"上昇\": \"無補正\", \"下降\": \"無補正\"},\n",
        "    {\"性格\": \"てれや\", \"上昇\": \"無補正\", \"下降\": \"無補正\"},\n",
        "    {\"性格\": \"きまぐれ\", \"上昇\": \"無補正\", \"下降\": \"無補正\"},\n",
        "    {\"性格\": \"まじめ\", \"上昇\": \"無補正\", \"下降\": \"無補正\"}\n",
        "]\n",
        "\n",
        "# 金スキル一覧\n",
        "gold_skills = [\n",
        "    \"スキルレベルアップM\", \"きのみの数S\", \"睡眠EXPボーナス\",\n",
        "    \"おてつだいボーナス\", \"げんき回復ボーナス\",\n",
        "    \"リサーチEXPボーナス\", \"ゆめのかけらボーナス\"\n",
        "]\n",
        "\n",
        "# サブスキルの5つ組み合わせを生成\n",
        "subskill_combinations = list(itertools.combinations(sub_skills, 5))\n",
        "\n",
        "# 全パターン作成（組み合わせ × 性格）\n",
        "results = []\n",
        "for combo in subskill_combinations:\n",
        "    for p in personalities:\n",
        "        results.append({\n",
        "            \"サブスキル1\": combo[0],\n",
        "            \"サブスキル2\": combo[1],\n",
        "            \"サブスキル3\": combo[2],\n",
        "            \"サブスキル4\": combo[3],\n",
        "            \"サブスキル5\": combo[4],\n",
        "            \"性格\": p[\"性格\"],\n",
        "        })\n",
        "\n",
        "# データフレーム化\n",
        "df = pd.DataFrame(results)\n",
        "\n",
        "# CSV保存（必要な場合）\n",
        "# df.to_csv(\"pokemonsleep_full_combinations.csv\", index=False)\n",
        "\n",
        "# 先頭5行を表示\n",
        "print(len(df),df.head())"
      ],
      "metadata": {
        "colab": {
          "base_uri": "https://localhost:8080/"
        },
        "id": "x0kD5K5j0z7U",
        "outputId": "a066d437-15d5-45d2-d137-f6dec2588315"
      },
      "execution_count": 1,
      "outputs": [
        {
          "output_type": "stream",
          "name": "stdout",
          "text": [
            "154700        サブスキル1  サブスキル2     サブスキル3     サブスキル4     サブスキル5     性格\n",
            "0  スキルレベルアップM  きのみの数S  睡眠EXPボーナス  おてつだいボーナス  げんき回復ボーナス  さみしがり\n",
            "1  スキルレベルアップM  きのみの数S  睡眠EXPボーナス  おてつだいボーナス  げんき回復ボーナス  いじっぱり\n",
            "2  スキルレベルアップM  きのみの数S  睡眠EXPボーナス  おてつだいボーナス  げんき回復ボーナス   やんちゃ\n",
            "3  スキルレベルアップM  きのみの数S  睡眠EXPボーナス  おてつだいボーナス  げんき回復ボーナス   ゆうかん\n",
            "4  スキルレベルアップM  きのみの数S  睡眠EXPボーナス  おてつだいボーナス  げんき回復ボーナス   ずぶとい\n"
          ]
        }
      ]
    },
    {
      "cell_type": "markdown",
      "source": [
        "# 金枠確定"
      ],
      "metadata": {
        "id": "sNQC6vZTBY3r"
      }
    },
    {
      "cell_type": "code",
      "source": [
        "# 任意に指定してください\n",
        "n = 3  # サブスキル1〜nまでの範囲（ここを変えることで条件を変更できます）\n",
        "skills_A = [\"きのみの数S\", \"スキルレベルアップM\"]  # 前半で含まれていてほしいスキル\n",
        "skills_B = [\"スキル確率アップS\", \"食材確率アップS\"]  # 全体で含まれていてほしくないスキル\n",
        "\n",
        "# 対象列リスト\n",
        "skill_cols_first = [f\"サブスキル{i}\" for i in range(1, n+1)]\n",
        "skill_cols_all = [f\"サブスキル{i}\" for i in range(1, 6)]\n",
        "\n",
        "# 判定関数\n",
        "def match_condition(row):\n",
        "    # サブスキル1〜nにスキルAが含まれる\n",
        "    has_skill_A = any(skill in skills_A for skill in row[skill_cols_first].values)\n",
        "    # サブスキル1〜5にスキルBが含まれていない\n",
        "    no_skill_B = all(skill not in skills_B for skill in row[skill_cols_all].values)\n",
        "    return has_skill_A and no_skill_B\n",
        "\n",
        "# 条件に一致する行を抽出\n",
        "filtered_df = df[df.apply(match_condition, axis=1)]\n",
        "\n",
        "# 結果表示\n",
        "print(filtered_df.head())\n",
        "print()"
      ],
      "metadata": {
        "colab": {
          "base_uri": "https://localhost:8080/"
        },
        "id": "QrOWAIt0_EUQ",
        "outputId": "5a95c82e-146a-4c9f-ac45-eede0704506f"
      },
      "execution_count": 4,
      "outputs": [
        {
          "output_type": "stream",
          "name": "stdout",
          "text": [
            "       サブスキル1  サブスキル2     サブスキル3     サブスキル4     サブスキル5     性格\n",
            "0  スキルレベルアップM  きのみの数S  睡眠EXPボーナス  おてつだいボーナス  げんき回復ボーナス  さみしがり\n",
            "1  スキルレベルアップM  きのみの数S  睡眠EXPボーナス  おてつだいボーナス  げんき回復ボーナス  いじっぱり\n",
            "2  スキルレベルアップM  きのみの数S  睡眠EXPボーナス  おてつだいボーナス  げんき回復ボーナス   やんちゃ\n",
            "3  スキルレベルアップM  きのみの数S  睡眠EXPボーナス  おてつだいボーナス  げんき回復ボーナス   ゆうかん\n",
            "4  スキルレベルアップM  きのみの数S  睡眠EXPボーナス  おてつだいボーナス  げんき回復ボーナス   ずぶとい\n"
          ]
        }
      ]
    },
    {
      "cell_type": "markdown",
      "source": [
        "# 指定のサブスキル、性格を含むdataframeの抽出"
      ],
      "metadata": {
        "id": "2p4pA_f8Bjd8"
      }
    },
    {
      "cell_type": "code",
      "source": [
        "# 条件\n",
        "target_skills = [\"きのみの数S\", \"おてつだいボーナス\"]\n",
        "target_personalities = [\"ようき\", \"がんばりや\"]\n",
        "\n",
        "# サブスキル列\n",
        "skill_columns = [col for col in df.columns if col.startswith(\"サブスキル\")]\n",
        "\n",
        "# スキル条件を満たすかどうか判定\n",
        "def skill_match(row):\n",
        "    return any(skill in row.values for skill in target_skills)\n",
        "\n",
        "# 条件抽出\n",
        "filtered_df = df[df[skill_columns].apply(skill_match, axis=1)]\n",
        "\n",
        "# 性格条件の抽出\n",
        "filtered_df = filtered_df[filtered_df[\"性格\"].isin(target_personalities)]\n",
        "\n",
        "# 表示\n",
        "print(len(filtered_df),filtered_df.head())"
      ],
      "metadata": {
        "colab": {
          "base_uri": "https://localhost:8080/"
        },
        "id": "qglmBybW5kDx",
        "outputId": "a37db10c-840a-4eeb-c16f-8fa025019009"
      },
      "execution_count": 2,
      "outputs": [
        {
          "output_type": "stream",
          "name": "stdout",
          "text": [
            "6370         サブスキル1  サブスキル2     サブスキル3     サブスキル4       サブスキル5     性格\n",
            "18  スキルレベルアップM  きのみの数S  睡眠EXPボーナス  おてつだいボーナス    げんき回復ボーナス    ようき\n",
            "20  スキルレベルアップM  きのみの数S  睡眠EXPボーナス  おてつだいボーナス    げんき回復ボーナス  がんばりや\n",
            "43  スキルレベルアップM  きのみの数S  睡眠EXPボーナス  おてつだいボーナス  リサーチEXPボーナス    ようき\n",
            "45  スキルレベルアップM  きのみの数S  睡眠EXPボーナス  おてつだいボーナス  リサーチEXPボーナス  がんばりや\n",
            "68  スキルレベルアップM  きのみの数S  睡眠EXPボーナス  おてつだいボーナス   ゆめのかけらボーナス    ようき\n"
          ]
        }
      ]
    },
    {
      "cell_type": "markdown",
      "source": [
        "# 金枠固定時の計算\n",
        "\n"
      ],
      "metadata": {
        "id": "c6sYH6lRBqCp"
      }
    },
    {
      "cell_type": "code",
      "source": [
        "import pandas as pd\n",
        "\n",
        "# 金スキル一覧（最新版に応じて調整）\n",
        "gold_skills = [\n",
        "    \"スキルレベルアップM\", \"きのみの数S\", \"睡眠EXPボーナス\",\n",
        "    \"おてつだいボーナス\", \"げんき回復ボーナス\",\n",
        "    \"リサーチEXPボーナス\", \"ゆめのかけらボーナス\"\n",
        "]\n",
        "\n",
        "# 抽出対象のサブスキル数 n を指定（1〜5）\n",
        "n = 1 # ← 任意で変更可能！\n",
        "\n",
        "# 該当列名を取得\n",
        "skill_columns = [f\"サブスキル{i}\" for i in range(1, n + 1)]\n",
        "\n",
        "# n個すべてが金スキルかを判定\n",
        "def all_gold_skills(row):\n",
        "    return all(skill in gold_skills for skill in row.values)\n",
        "\n",
        "# 条件に一致する行を抽出\n",
        "filtered_df = df[df[skill_columns].apply(all_gold_skills, axis=1)]\n",
        "\n",
        "# 結果表示\n",
        "print(len(filtered_df),filtered_df.head())"
      ],
      "metadata": {
        "colab": {
          "base_uri": "https://localhost:8080/"
        },
        "id": "3AyZFOKJ7ha0",
        "outputId": "1f71a81b-2101-43cc-c01b-ee1141bffcdc"
      },
      "execution_count": 3,
      "outputs": [
        {
          "output_type": "stream",
          "name": "stdout",
          "text": [
            "148400        サブスキル1  サブスキル2     サブスキル3     サブスキル4     サブスキル5     性格\n",
            "0  スキルレベルアップM  きのみの数S  睡眠EXPボーナス  おてつだいボーナス  げんき回復ボーナス  さみしがり\n",
            "1  スキルレベルアップM  きのみの数S  睡眠EXPボーナス  おてつだいボーナス  げんき回復ボーナス  いじっぱり\n",
            "2  スキルレベルアップM  きのみの数S  睡眠EXPボーナス  おてつだいボーナス  げんき回復ボーナス   やんちゃ\n",
            "3  スキルレベルアップM  きのみの数S  睡眠EXPボーナス  おてつだいボーナス  げんき回復ボーナス   ゆうかん\n",
            "4  スキルレベルアップM  きのみの数S  睡眠EXPボーナス  おてつだいボーナス  げんき回復ボーナス   ずぶとい\n"
          ]
        }
      ]
    },
    {
      "cell_type": "code",
      "source": [
        "#"
      ],
      "metadata": {
        "id": "Wqlv5qGbD5Ie"
      },
      "execution_count": null,
      "outputs": []
    },
    {
      "cell_type": "code",
      "source": [
        "def filter_dataframe_by_advanced_conditions(\n",
        "    df,\n",
        "    n,\n",
        "    skills_A,\n",
        "    skills_B,\n",
        "    target_personalities,\n",
        "    gold_n\n",
        "):\n",
        "    \"\"\"\n",
        "    指定条件に合致する行を抽出する。\n",
        "\n",
        "    Parameters:\n",
        "        df (pd.DataFrame): 元のデータフレーム\n",
        "        n (int): スキルAを含むべきサブスキル範囲（1〜n）\n",
        "        skills_A (list): サブスキル1〜nの中に含まれていてほしいスキル\n",
        "        skills_B (list): サブスキル1〜5に含まれていてはいけないスキル\n",
        "        target_personalities (list): 対象とする性格（複数可）\n",
        "        gold_n (int): サブスキル1〜gold_nがすべて金スキルである必要あり\n",
        "        gold_skills (list): 金スキル名一覧\n",
        "\n",
        "    Returns:\n",
        "        pd.DataFrame: 条件を満たすデータフレーム\n",
        "    \"\"\"\n",
        "\n",
        "    # 列の定義\n",
        "    skill_cols_A = [f\"サブスキル{i}\" for i in range(1, n+1)]\n",
        "    skill_cols_all = [f\"サブスキル{i}\" for i in range(1, 6)]\n",
        "    skill_cols_gold = [f\"サブスキル{i}\" for i in range(1, gold_n+1)]\n",
        "\n",
        "    def match_condition(row):\n",
        "        has_skill_A = any(skill in skills_A for skill in row[skill_cols_A].values)\n",
        "        no_skill_B = all(skill not in skills_B for skill in row[skill_cols_all].values)\n",
        "        correct_personality = row[\"性格\"] in target_personalities\n",
        "        all_gold = all(skill in gold_skills for skill in row[skill_cols_gold].values)\n",
        "        return has_skill_A and no_skill_B and correct_personality and all_gold\n",
        "\n",
        "    return df[df.apply(match_condition, axis=1)]\n",
        "\n",
        "skills_A = [\"スキル確率アップM\"]\n",
        "target_personalities = [\"おとなしい\", \"しんちょう\",\"なまいき\"]\n",
        "filter_dataframe_by_advanced_conditions(df,n=3,skills_A=skills_A,skills_B=skills_B,target_personalities=target_personalities,gold_n=3)"
      ],
      "metadata": {
        "id": "5sBj5hG1_T0F"
      },
      "execution_count": null,
      "outputs": []
    },
    {
      "cell_type": "code",
      "source": [],
      "metadata": {
        "id": "mi7juiUeNQtJ"
      },
      "execution_count": null,
      "outputs": []
    },
    {
      "cell_type": "markdown",
      "source": [],
      "metadata": {
        "id": "yfD-GisaEXGE"
      }
    }
  ]
}